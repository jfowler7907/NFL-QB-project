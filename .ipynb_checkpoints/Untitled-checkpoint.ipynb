{
 "cells": [
  {
   "cell_type": "code",
   "execution_count": 1,
   "metadata": {},
   "outputs": [],
   "source": [
    "import sqlalchemy\n",
    "from sqlalchemy.ext.automap import automap_base\n",
    "from sqlalchemy.orm import Session\n",
    "from sqlalchemy import create_engine, inspect, func"
   ]
  },
  {
   "cell_type": "code",
   "execution_count": 5,
   "metadata": {},
   "outputs": [],
   "source": [
    "engine = create_engine(\"sqlite:///NFL_ETL.sqlite\", echo=False)"
   ]
  },
  {
   "cell_type": "code",
   "execution_count": 6,
   "metadata": {},
   "outputs": [],
   "source": [
    "Base = automap_base()\n",
    "# reflect the tables\n",
    "Base.prepare(engine, reflect=True)\n",
    "\n",
    "# Save references to the table\n",
    "Stats = Base.classes.qb_stats2"
   ]
  },
  {
   "cell_type": "code",
   "execution_count": 36,
   "metadata": {},
   "outputs": [
    {
     "data": {
      "text/plain": [
       "{'1': {'Avg_Attempts': 17.990999999999996,\n",
       "  'Avg_Completions': 208.57000000000002,\n",
       "  'Avg_Passing_Yards': 6.9490000000000025,\n",
       "  'Avg_Yards_per_Attempt': 1.2323333333333333,\n",
       "  'Avg_TDs': 2.1349999999999993,\n",
       "  'Avg_Sacks': 13.953666666666663,\n",
       "  'Avg_Loss_of_Yards': 82.85,\n",
       "  'Avg_QBR': 21.256666666666668,\n",
       "  'Avg_Points': 79.0,\n",
       "  'Game_Total': 29.992},\n",
       " '2': {'Avg_Attempts': 13.468666666666667,\n",
       "  'Avg_Completions': 148.52,\n",
       "  'Avg_Passing_Yards': 5.665333333333334,\n",
       "  'Avg_Yards_per_Attempt': 0.7186666666666668,\n",
       "  'Avg_TDs': 1.884,\n",
       "  'Avg_Sacks': 11.370666666666667,\n",
       "  'Avg_Loss_of_Yards': 69.98333333333332,\n",
       "  'Avg_QBR': 19.37933333333333,\n",
       "  'Avg_Points': 35.0,\n",
       "  'Game_Total': 23.095333333333333},\n",
       " '3': {'Avg_Attempts': 13.633846153846152,\n",
       "  'Avg_Completions': 147.53000000000003,\n",
       "  'Avg_Passing_Yards': 5.9592307692307696,\n",
       "  'Avg_Yards_per_Attempt': 0.7438461538461537,\n",
       "  'Avg_TDs': 1.8707692307692307,\n",
       "  'Avg_Sacks': 11.656923076923077,\n",
       "  'Avg_Loss_of_Yards': 74.53846153846153,\n",
       "  'Avg_QBR': 18.463846153846156,\n",
       "  'Avg_Points': 31.692307692307693,\n",
       "  'Game_Total': 22.776153846153843},\n",
       " '4': {'Avg_Attempts': 10.674166666666666,\n",
       "  'Avg_Completions': 122.09333333333335,\n",
       "  'Avg_Passing_Yards': 6.598333333333333,\n",
       "  'Avg_Yards_per_Attempt': 0.6074999999999999,\n",
       "  'Avg_TDs': 1.2266666666666666,\n",
       "  'Avg_Sacks': 8.519166666666669,\n",
       "  'Avg_Loss_of_Yards': 77.27000000000001,\n",
       "  'Avg_QBR': 18.436666666666664,\n",
       "  'Avg_Points': 16.833333333333332,\n",
       "  'Game_Total': 17.7825},\n",
       " '5': {'Avg_Attempts': 8.75,\n",
       "  'Avg_Completions': 102.23,\n",
       "  'Avg_Passing_Yards': 5.308571428571429,\n",
       "  'Avg_Yards_per_Attempt': 0.42,\n",
       "  'Avg_TDs': 1.5899999999999999,\n",
       "  'Avg_Sacks': 10.777142857142858,\n",
       "  'Avg_Loss_of_Yards': 61.381428571428565,\n",
       "  'Avg_QBR': 19.53714285714286,\n",
       "  'Avg_Points': 12.857142857142858,\n",
       "  'Game_Total': 16.544285714285717},\n",
       " '6': {'Avg_Attempts': 9.746923076923078,\n",
       "  'Avg_Completions': 99.86,\n",
       "  'Avg_Passing_Yards': 4.875384615384615,\n",
       "  'Avg_Yards_per_Attempt': 0.43461538461538457,\n",
       "  'Avg_TDs': 1.3653846153846154,\n",
       "  'Avg_Sacks': 9.006153846153847,\n",
       "  'Avg_Loss_of_Yards': 60.29076923076923,\n",
       "  'Avg_QBR': 15.14076923076923,\n",
       "  'Avg_Points': 14.846153846153847,\n",
       "  'Game_Total': 17.560769230769232},\n",
       " '7': {'Avg_Attempts': 9.969166666666668,\n",
       "  'Avg_Completions': 108.435,\n",
       "  'Avg_Passing_Yards': 5.410833333333334,\n",
       "  'Avg_Yards_per_Attempt': 0.5599999999999999,\n",
       "  'Avg_TDs': 1.7283333333333333,\n",
       "  'Avg_Sacks': 11.036666666666667,\n",
       "  'Avg_Loss_of_Yards': 61.04916666666667,\n",
       "  'Avg_QBR': 15.961666666666668,\n",
       "  'Avg_Points': 24.833333333333332,\n",
       "  'Game_Total': 18.221666666666668}}"
      ]
     },
     "execution_count": 36,
     "metadata": {},
     "output_type": "execute_result"
    }
   ],
   "source": [
    "session = Session(engine)\n",
    "\n",
    "sel = [Stats.Round_Drafted,func.avg(Stats.Avg_Completions),\n",
    "   func.avg(Stats.Avg_Passing_Yards),func.avg(Stats.Avg_Yards_per_Attempt),\n",
    "   func.avg(Stats.Avg_TDs),func.avg(Stats.Avg_Sacks),\n",
    "   func.avg(Stats.Avg_Loss_of_Yards),func.avg(Stats.Avg_QBR_REAL),\n",
    "   func.avg(Stats.Avg_Points),func.avg(Stats.Game_Total),\n",
    "   func.avg(Stats.Avg_Attempts)]\n",
    "\n",
    "results = session.query(*sel).group_by(Stats.Round_Drafted).all()\n",
    "\n",
    "draft_round = []\n",
    "stats_list = []\n",
    "\n",
    "\n",
    "for a in results:\n",
    "    player_dict = {}\n",
    "    draft_round.append(str(a[0]))\n",
    "    player_dict[\"Avg_Attempts\"] = a[1]\n",
    "    player_dict[\"Avg_Completions\"] = a[2]\n",
    "    player_dict[\"Avg_Passing_Yards\"] = a[3]\n",
    "    player_dict[\"Avg_Yards_per_Attempt\"] = a[4]\n",
    "    player_dict[\"Avg_TDs\"] = a[5]\n",
    "    player_dict[\"Avg_Sacks\"] = a[6]\n",
    "    player_dict[\"Avg_Loss_of_Yards\"] = a[7]\n",
    "    player_dict[\"Avg_QBR\"] = a[8]\n",
    "    player_dict[\"Avg_Points\"] = a[9]\n",
    "    player_dict[\"Game_Total\"] = a[10]\n",
    "\n",
    "    stats_list.append(player_dict)\n",
    "        \n",
    "nfl_dict = dict(zip(draft_round,stats_list))\n",
    "nfl_dict"
   ]
  },
  {
   "cell_type": "code",
   "execution_count": null,
   "metadata": {},
   "outputs": [],
   "source": []
  }
 ],
 "metadata": {
  "kernelspec": {
   "display_name": "Python 3",
   "language": "python",
   "name": "python3"
  },
  "language_info": {
   "codemirror_mode": {
    "name": "ipython",
    "version": 3
   },
   "file_extension": ".py",
   "mimetype": "text/x-python",
   "name": "python",
   "nbconvert_exporter": "python",
   "pygments_lexer": "ipython3",
   "version": "3.6.7"
  }
 },
 "nbformat": 4,
 "nbformat_minor": 2
}
